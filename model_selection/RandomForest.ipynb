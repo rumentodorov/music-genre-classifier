{
 "cells": [
  {
   "cell_type": "code",
   "execution_count": 1,
   "id": "eca7e7a0",
   "metadata": {},
   "outputs": [],
   "source": [
    "%matplotlib inline"
   ]
  },
  {
   "cell_type": "code",
   "execution_count": 2,
   "id": "ed7235e9",
   "metadata": {},
   "outputs": [],
   "source": [
    "import warnings\n",
    "\n",
    "import pandas as pd\n",
    "\n",
    "from lib.report import mlflow_log_classification_report, mlflow_log_model\n",
    "import lib.constants as constants\n",
    "\n",
    "from sklearn.pipeline import Pipeline\n",
    "\n",
    "from sklearn.preprocessing import LabelEncoder, StandardScaler\n",
    "from sklearn.model_selection import train_test_split, GridSearchCV\n",
    "\n",
    "from sklearn.ensemble import RandomForestClassifier\n",
    "\n",
    "import mlflow\n",
    "import mlflow.sklearn\n",
    "from mlflow.data.pandas_dataset import PandasDataset"
   ]
  },
  {
   "cell_type": "code",
   "execution_count": 3,
   "id": "66e18add",
   "metadata": {},
   "outputs": [],
   "source": [
    "warnings.filterwarnings(\"ignore\", \"Setuptools is replacing distutils.\")\n",
    "warnings.simplefilter(\"ignore\", category=FutureWarning)\n",
    "warnings.simplefilter(\"ignore\", category=UserWarning)"
   ]
  },
  {
   "cell_type": "markdown",
   "id": "944775ac",
   "metadata": {},
   "source": [
    "# Music Genre Classifier Model Selection"
   ]
  },
  {
   "cell_type": "markdown",
   "id": "225f20aa",
   "metadata": {},
   "source": [
    "## Optimizing Random Forest Classifier"
   ]
  },
  {
   "cell_type": "code",
   "execution_count": 4,
   "id": "6f0ebaef",
   "metadata": {},
   "outputs": [],
   "source": [
    "sample_length = 3"
   ]
  },
  {
   "cell_type": "code",
   "execution_count": 5,
   "id": "7ecf5156",
   "metadata": {},
   "outputs": [],
   "source": [
    "data_file = f\"../data/{sample_length}_seconds_song_features.csv\".format(sample_length)"
   ]
  },
  {
   "cell_type": "code",
   "execution_count": 6,
   "id": "d850c978",
   "metadata": {},
   "outputs": [],
   "source": [
    "songs = pd.read_csv(data_file, low_memory=False)"
   ]
  },
  {
   "cell_type": "code",
   "execution_count": 7,
   "id": "72874227",
   "metadata": {},
   "outputs": [
    {
     "data": {
      "text/html": [
       "<div>\n",
       "<style scoped>\n",
       "    .dataframe tbody tr th:only-of-type {\n",
       "        vertical-align: middle;\n",
       "    }\n",
       "\n",
       "    .dataframe tbody tr th {\n",
       "        vertical-align: top;\n",
       "    }\n",
       "\n",
       "    .dataframe thead th {\n",
       "        text-align: right;\n",
       "    }\n",
       "</style>\n",
       "<table border=\"1\" class=\"dataframe\">\n",
       "  <thead>\n",
       "    <tr style=\"text-align: right;\">\n",
       "      <th></th>\n",
       "      <th>zero_crossings_max</th>\n",
       "      <th>zero_crossings_min</th>\n",
       "      <th>zero_crossings_mean</th>\n",
       "      <th>zero_crossings_std</th>\n",
       "      <th>zero_crossings_kurtosis</th>\n",
       "      <th>zero_crossings_skew</th>\n",
       "      <th>centroid_max</th>\n",
       "      <th>centroid_min</th>\n",
       "      <th>centroid_mean</th>\n",
       "      <th>centroid_std</th>\n",
       "      <th>...</th>\n",
       "      <th>mfcc_11_skew</th>\n",
       "      <th>mfcc_12_max</th>\n",
       "      <th>mfcc_12_min</th>\n",
       "      <th>mfcc_12_mean</th>\n",
       "      <th>mfcc_12_std</th>\n",
       "      <th>mfcc_12_kurtosis</th>\n",
       "      <th>mfcc_12_skew</th>\n",
       "      <th>tempo</th>\n",
       "      <th>genre</th>\n",
       "      <th>file</th>\n",
       "    </tr>\n",
       "  </thead>\n",
       "  <tbody>\n",
       "    <tr>\n",
       "      <th>0</th>\n",
       "      <td>0.210449</td>\n",
       "      <td>0.047363</td>\n",
       "      <td>0.081350</td>\n",
       "      <td>0.022665</td>\n",
       "      <td>11.503471</td>\n",
       "      <td>2.688745</td>\n",
       "      <td>4031.354256</td>\n",
       "      <td>1247.016418</td>\n",
       "      <td>1761.351126</td>\n",
       "      <td>389.970271</td>\n",
       "      <td>...</td>\n",
       "      <td>-0.461595</td>\n",
       "      <td>9.864202</td>\n",
       "      <td>-23.182499</td>\n",
       "      <td>-4.651091</td>\n",
       "      <td>5.882950</td>\n",
       "      <td>1.015412</td>\n",
       "      <td>-0.612315</td>\n",
       "      <td>129.199219</td>\n",
       "      <td>blues</td>\n",
       "      <td>blues.00000.wav</td>\n",
       "    </tr>\n",
       "    <tr>\n",
       "      <th>1</th>\n",
       "      <td>0.164551</td>\n",
       "      <td>0.037598</td>\n",
       "      <td>0.087709</td>\n",
       "      <td>0.032044</td>\n",
       "      <td>-0.850489</td>\n",
       "      <td>0.472236</td>\n",
       "      <td>3222.274307</td>\n",
       "      <td>1022.732614</td>\n",
       "      <td>1822.016049</td>\n",
       "      <td>304.312041</td>\n",
       "      <td>...</td>\n",
       "      <td>0.000940</td>\n",
       "      <td>14.760537</td>\n",
       "      <td>-17.337769</td>\n",
       "      <td>-7.867007</td>\n",
       "      <td>5.448279</td>\n",
       "      <td>2.613537</td>\n",
       "      <td>1.247251</td>\n",
       "      <td>123.046875</td>\n",
       "      <td>blues</td>\n",
       "      <td>blues.00000.wav</td>\n",
       "    </tr>\n",
       "    <tr>\n",
       "      <th>2</th>\n",
       "      <td>0.131348</td>\n",
       "      <td>0.032227</td>\n",
       "      <td>0.071626</td>\n",
       "      <td>0.020605</td>\n",
       "      <td>-0.307913</td>\n",
       "      <td>0.340260</td>\n",
       "      <td>2999.614979</td>\n",
       "      <td>1037.125090</td>\n",
       "      <td>1793.037434</td>\n",
       "      <td>331.091442</td>\n",
       "      <td>...</td>\n",
       "      <td>-0.091285</td>\n",
       "      <td>9.158812</td>\n",
       "      <td>-18.102434</td>\n",
       "      <td>-4.826131</td>\n",
       "      <td>6.191893</td>\n",
       "      <td>-0.505952</td>\n",
       "      <td>-0.358207</td>\n",
       "      <td>123.046875</td>\n",
       "      <td>blues</td>\n",
       "      <td>blues.00000.wav</td>\n",
       "    </tr>\n",
       "    <tr>\n",
       "      <th>3</th>\n",
       "      <td>0.125000</td>\n",
       "      <td>0.037598</td>\n",
       "      <td>0.069733</td>\n",
       "      <td>0.017171</td>\n",
       "      <td>0.342042</td>\n",
       "      <td>0.576718</td>\n",
       "      <td>2509.335877</td>\n",
       "      <td>1047.974918</td>\n",
       "      <td>1661.406968</td>\n",
       "      <td>331.384160</td>\n",
       "      <td>...</td>\n",
       "      <td>0.114771</td>\n",
       "      <td>19.266750</td>\n",
       "      <td>-20.557999</td>\n",
       "      <td>-4.382119</td>\n",
       "      <td>7.674499</td>\n",
       "      <td>-0.079892</td>\n",
       "      <td>0.245445</td>\n",
       "      <td>123.046875</td>\n",
       "      <td>blues</td>\n",
       "      <td>blues.00000.wav</td>\n",
       "    </tr>\n",
       "    <tr>\n",
       "      <th>4</th>\n",
       "      <td>0.113770</td>\n",
       "      <td>0.027344</td>\n",
       "      <td>0.070297</td>\n",
       "      <td>0.016781</td>\n",
       "      <td>-0.428186</td>\n",
       "      <td>-0.091625</td>\n",
       "      <td>2675.131530</td>\n",
       "      <td>1129.060230</td>\n",
       "      <td>1635.331464</td>\n",
       "      <td>281.302522</td>\n",
       "      <td>...</td>\n",
       "      <td>-0.587330</td>\n",
       "      <td>10.810911</td>\n",
       "      <td>-22.698643</td>\n",
       "      <td>-5.914538</td>\n",
       "      <td>6.539700</td>\n",
       "      <td>-0.368645</td>\n",
       "      <td>-0.088289</td>\n",
       "      <td>123.046875</td>\n",
       "      <td>blues</td>\n",
       "      <td>blues.00000.wav</td>\n",
       "    </tr>\n",
       "    <tr>\n",
       "      <th>...</th>\n",
       "      <td>...</td>\n",
       "      <td>...</td>\n",
       "      <td>...</td>\n",
       "      <td>...</td>\n",
       "      <td>...</td>\n",
       "      <td>...</td>\n",
       "      <td>...</td>\n",
       "      <td>...</td>\n",
       "      <td>...</td>\n",
       "      <td>...</td>\n",
       "      <td>...</td>\n",
       "      <td>...</td>\n",
       "      <td>...</td>\n",
       "      <td>...</td>\n",
       "      <td>...</td>\n",
       "      <td>...</td>\n",
       "      <td>...</td>\n",
       "      <td>...</td>\n",
       "      <td>...</td>\n",
       "      <td>...</td>\n",
       "      <td>...</td>\n",
       "    </tr>\n",
       "    <tr>\n",
       "      <th>9265</th>\n",
       "      <td>0.255371</td>\n",
       "      <td>0.062988</td>\n",
       "      <td>0.149547</td>\n",
       "      <td>0.038969</td>\n",
       "      <td>-0.362665</td>\n",
       "      <td>0.455421</td>\n",
       "      <td>4219.843386</td>\n",
       "      <td>2126.538609</td>\n",
       "      <td>2828.911302</td>\n",
       "      <td>406.251026</td>\n",
       "      <td>...</td>\n",
       "      <td>0.459619</td>\n",
       "      <td>18.043543</td>\n",
       "      <td>-13.256772</td>\n",
       "      <td>2.580344</td>\n",
       "      <td>5.558560</td>\n",
       "      <td>0.478881</td>\n",
       "      <td>0.352665</td>\n",
       "      <td>151.999081</td>\n",
       "      <td>rock</td>\n",
       "      <td>rock.00027.wav</td>\n",
       "    </tr>\n",
       "    <tr>\n",
       "      <th>9266</th>\n",
       "      <td>0.348633</td>\n",
       "      <td>0.028809</td>\n",
       "      <td>0.125189</td>\n",
       "      <td>0.062630</td>\n",
       "      <td>1.906010</td>\n",
       "      <td>1.320978</td>\n",
       "      <td>5054.668975</td>\n",
       "      <td>1485.373859</td>\n",
       "      <td>2868.156921</td>\n",
       "      <td>685.789202</td>\n",
       "      <td>...</td>\n",
       "      <td>0.061615</td>\n",
       "      <td>9.562820</td>\n",
       "      <td>-24.992477</td>\n",
       "      <td>-10.230426</td>\n",
       "      <td>8.822643</td>\n",
       "      <td>-0.953396</td>\n",
       "      <td>0.389956</td>\n",
       "      <td>151.999081</td>\n",
       "      <td>rock</td>\n",
       "      <td>rock.00027.wav</td>\n",
       "    </tr>\n",
       "    <tr>\n",
       "      <th>9267</th>\n",
       "      <td>0.490723</td>\n",
       "      <td>0.017090</td>\n",
       "      <td>0.110215</td>\n",
       "      <td>0.091016</td>\n",
       "      <td>5.348066</td>\n",
       "      <td>2.280798</td>\n",
       "      <td>5436.874338</td>\n",
       "      <td>1299.288815</td>\n",
       "      <td>2465.205517</td>\n",
       "      <td>948.630703</td>\n",
       "      <td>...</td>\n",
       "      <td>-0.124412</td>\n",
       "      <td>14.526768</td>\n",
       "      <td>-27.832321</td>\n",
       "      <td>-4.105305</td>\n",
       "      <td>8.967973</td>\n",
       "      <td>-0.430528</td>\n",
       "      <td>0.117361</td>\n",
       "      <td>151.999081</td>\n",
       "      <td>rock</td>\n",
       "      <td>rock.00027.wav</td>\n",
       "    </tr>\n",
       "    <tr>\n",
       "      <th>9268</th>\n",
       "      <td>0.573242</td>\n",
       "      <td>0.012207</td>\n",
       "      <td>0.117123</td>\n",
       "      <td>0.118646</td>\n",
       "      <td>5.337525</td>\n",
       "      <td>2.434055</td>\n",
       "      <td>5770.027623</td>\n",
       "      <td>1378.406711</td>\n",
       "      <td>2462.673377</td>\n",
       "      <td>1028.748903</td>\n",
       "      <td>...</td>\n",
       "      <td>-0.457346</td>\n",
       "      <td>24.023312</td>\n",
       "      <td>-9.351840</td>\n",
       "      <td>4.406565</td>\n",
       "      <td>7.542349</td>\n",
       "      <td>-0.360459</td>\n",
       "      <td>0.427651</td>\n",
       "      <td>143.554688</td>\n",
       "      <td>rock</td>\n",
       "      <td>rock.00027.wav</td>\n",
       "    </tr>\n",
       "    <tr>\n",
       "      <th>9269</th>\n",
       "      <td>0.307129</td>\n",
       "      <td>0.014648</td>\n",
       "      <td>0.093841</td>\n",
       "      <td>0.058879</td>\n",
       "      <td>2.172565</td>\n",
       "      <td>1.439401</td>\n",
       "      <td>5180.068341</td>\n",
       "      <td>1489.001144</td>\n",
       "      <td>2235.643373</td>\n",
       "      <td>709.234282</td>\n",
       "      <td>...</td>\n",
       "      <td>0.116828</td>\n",
       "      <td>22.758245</td>\n",
       "      <td>-10.532599</td>\n",
       "      <td>5.289732</td>\n",
       "      <td>6.432786</td>\n",
       "      <td>-0.055485</td>\n",
       "      <td>-0.267531</td>\n",
       "      <td>151.999081</td>\n",
       "      <td>rock</td>\n",
       "      <td>rock.00027.wav</td>\n",
       "    </tr>\n",
       "  </tbody>\n",
       "</table>\n",
       "<p>9270 rows × 135 columns</p>\n",
       "</div>"
      ],
      "text/plain": [
       "      zero_crossings_max  zero_crossings_min  zero_crossings_mean  \\\n",
       "0               0.210449            0.047363             0.081350   \n",
       "1               0.164551            0.037598             0.087709   \n",
       "2               0.131348            0.032227             0.071626   \n",
       "3               0.125000            0.037598             0.069733   \n",
       "4               0.113770            0.027344             0.070297   \n",
       "...                  ...                 ...                  ...   \n",
       "9265            0.255371            0.062988             0.149547   \n",
       "9266            0.348633            0.028809             0.125189   \n",
       "9267            0.490723            0.017090             0.110215   \n",
       "9268            0.573242            0.012207             0.117123   \n",
       "9269            0.307129            0.014648             0.093841   \n",
       "\n",
       "      zero_crossings_std  zero_crossings_kurtosis  zero_crossings_skew  \\\n",
       "0               0.022665                11.503471             2.688745   \n",
       "1               0.032044                -0.850489             0.472236   \n",
       "2               0.020605                -0.307913             0.340260   \n",
       "3               0.017171                 0.342042             0.576718   \n",
       "4               0.016781                -0.428186            -0.091625   \n",
       "...                  ...                      ...                  ...   \n",
       "9265            0.038969                -0.362665             0.455421   \n",
       "9266            0.062630                 1.906010             1.320978   \n",
       "9267            0.091016                 5.348066             2.280798   \n",
       "9268            0.118646                 5.337525             2.434055   \n",
       "9269            0.058879                 2.172565             1.439401   \n",
       "\n",
       "      centroid_max  centroid_min  centroid_mean  centroid_std  ...  \\\n",
       "0      4031.354256   1247.016418    1761.351126    389.970271  ...   \n",
       "1      3222.274307   1022.732614    1822.016049    304.312041  ...   \n",
       "2      2999.614979   1037.125090    1793.037434    331.091442  ...   \n",
       "3      2509.335877   1047.974918    1661.406968    331.384160  ...   \n",
       "4      2675.131530   1129.060230    1635.331464    281.302522  ...   \n",
       "...            ...           ...            ...           ...  ...   \n",
       "9265   4219.843386   2126.538609    2828.911302    406.251026  ...   \n",
       "9266   5054.668975   1485.373859    2868.156921    685.789202  ...   \n",
       "9267   5436.874338   1299.288815    2465.205517    948.630703  ...   \n",
       "9268   5770.027623   1378.406711    2462.673377   1028.748903  ...   \n",
       "9269   5180.068341   1489.001144    2235.643373    709.234282  ...   \n",
       "\n",
       "      mfcc_11_skew  mfcc_12_max  mfcc_12_min  mfcc_12_mean  mfcc_12_std  \\\n",
       "0        -0.461595     9.864202   -23.182499     -4.651091     5.882950   \n",
       "1         0.000940    14.760537   -17.337769     -7.867007     5.448279   \n",
       "2        -0.091285     9.158812   -18.102434     -4.826131     6.191893   \n",
       "3         0.114771    19.266750   -20.557999     -4.382119     7.674499   \n",
       "4        -0.587330    10.810911   -22.698643     -5.914538     6.539700   \n",
       "...            ...          ...          ...           ...          ...   \n",
       "9265      0.459619    18.043543   -13.256772      2.580344     5.558560   \n",
       "9266      0.061615     9.562820   -24.992477    -10.230426     8.822643   \n",
       "9267     -0.124412    14.526768   -27.832321     -4.105305     8.967973   \n",
       "9268     -0.457346    24.023312    -9.351840      4.406565     7.542349   \n",
       "9269      0.116828    22.758245   -10.532599      5.289732     6.432786   \n",
       "\n",
       "      mfcc_12_kurtosis  mfcc_12_skew       tempo  genre             file  \n",
       "0             1.015412     -0.612315  129.199219  blues  blues.00000.wav  \n",
       "1             2.613537      1.247251  123.046875  blues  blues.00000.wav  \n",
       "2            -0.505952     -0.358207  123.046875  blues  blues.00000.wav  \n",
       "3            -0.079892      0.245445  123.046875  blues  blues.00000.wav  \n",
       "4            -0.368645     -0.088289  123.046875  blues  blues.00000.wav  \n",
       "...                ...           ...         ...    ...              ...  \n",
       "9265          0.478881      0.352665  151.999081   rock   rock.00027.wav  \n",
       "9266         -0.953396      0.389956  151.999081   rock   rock.00027.wav  \n",
       "9267         -0.430528      0.117361  151.999081   rock   rock.00027.wav  \n",
       "9268         -0.360459      0.427651  143.554688   rock   rock.00027.wav  \n",
       "9269         -0.055485     -0.267531  151.999081   rock   rock.00027.wav  \n",
       "\n",
       "[9270 rows x 135 columns]"
      ]
     },
     "execution_count": 7,
     "metadata": {},
     "output_type": "execute_result"
    }
   ],
   "source": [
    "songs"
   ]
  },
  {
   "cell_type": "code",
   "execution_count": 8,
   "id": "2bd7b8a9",
   "metadata": {},
   "outputs": [],
   "source": [
    "song_genres = songs[\"genre\"]"
   ]
  },
  {
   "cell_type": "code",
   "execution_count": 9,
   "id": "a7b78bb8",
   "metadata": {},
   "outputs": [],
   "source": [
    "label_encoder = LabelEncoder()"
   ]
  },
  {
   "cell_type": "code",
   "execution_count": 10,
   "id": "0752901c",
   "metadata": {},
   "outputs": [],
   "source": [
    "encoded_song_genres = label_encoder.fit_transform(song_genres)"
   ]
  },
  {
   "cell_type": "code",
   "execution_count": 11,
   "id": "db7f66a6",
   "metadata": {},
   "outputs": [],
   "source": [
    "song_features = songs.drop(columns=[\"genre\" , \"file\"], axis=1)"
   ]
  },
  {
   "cell_type": "markdown",
   "id": "5f4a0b41",
   "metadata": {},
   "source": [
    "## Test, train and validation split"
   ]
  },
  {
   "cell_type": "code",
   "execution_count": 12,
   "id": "fa5656d1",
   "metadata": {},
   "outputs": [
    {
     "data": {
      "text/plain": [
       "1984"
      ]
     },
     "execution_count": 12,
     "metadata": {},
     "output_type": "execute_result"
    }
   ],
   "source": [
    "constants.RANDOM_STATE"
   ]
  },
  {
   "cell_type": "code",
   "execution_count": 13,
   "id": "0dcaef3d",
   "metadata": {},
   "outputs": [],
   "source": [
    "song_features_intermediate_train, song_features_test, song_genres_intermediate_train, song_genres_test = \\\n",
    "    train_test_split(song_features, song_genres, test_size = 0.1, random_state=constants.RANDOM_STATE)"
   ]
  },
  {
   "cell_type": "code",
   "execution_count": 14,
   "id": "2253c675",
   "metadata": {},
   "outputs": [],
   "source": [
    "song_features_train, song_features_val, song_genres_train, song_genres_val = \\\n",
    "    train_test_split(song_features_intermediate_train, song_genres_intermediate_train, test_size = 0.2,\\\n",
    "                     random_state=constants.RANDOM_STATE)"
   ]
  },
  {
   "cell_type": "markdown",
   "id": "ce752398",
   "metadata": {},
   "source": [
    "## Peraring traning pieline"
   ]
  },
  {
   "cell_type": "code",
   "execution_count": 15,
   "id": "624b4ba1",
   "metadata": {},
   "outputs": [],
   "source": [
    "train_pipeline = Pipeline([\n",
    "    (\"sndard_scaler\", StandardScaler()),\n",
    "    (\"reduce_dimension\", None),\n",
    "    (\"random_forest\", RandomForestClassifier())\n",
    "])"
   ]
  },
  {
   "cell_type": "markdown",
   "id": "86df742b",
   "metadata": {},
   "source": [
    "## Fiding Best Random Forest Classifier"
   ]
  },
  {
   "cell_type": "code",
   "execution_count": 16,
   "id": "df42843f",
   "metadata": {},
   "outputs": [],
   "source": [
    "dataset: PandasDataset = mlflow.data.from_pandas(songs, source=data_file)"
   ]
  },
  {
   "cell_type": "markdown",
   "id": "130572ef",
   "metadata": {},
   "source": [
    "### By min sample split"
   ]
  },
  {
   "cell_type": "code",
   "execution_count": 17,
   "id": "740d5cec",
   "metadata": {},
   "outputs": [],
   "source": [
    "experiment = mlflow.create_experiment(name = f\"Random Forest, min sample split - {sample_length} sec\".format(sample_length))"
   ]
  },
  {
   "cell_type": "code",
   "execution_count": 18,
   "id": "104bdbbd",
   "metadata": {},
   "outputs": [],
   "source": [
    "run = mlflow.start_run(experiment_id=experiment)"
   ]
  },
  {
   "cell_type": "code",
   "execution_count": 19,
   "id": "98d8e292",
   "metadata": {},
   "outputs": [],
   "source": [
    "mlflow.log_artifact(data_file)\n",
    "mlflow.log_input(dataset)"
   ]
  },
  {
   "cell_type": "code",
   "execution_count": 20,
   "id": "ff11bd38",
   "metadata": {},
   "outputs": [],
   "source": [
    "grid_search = GridSearchCV(train_pipeline,\n",
    "    param_grid={\n",
    "        \"random_forest__max_depth\" : [ 10, 15, 20, 25, 50, 100, 150, 200, 400, None],\n",
    "        \"random_forest__min_samples_split\": [2, 3, 5, 10, 20]\n",
    "    }, cv = 5, n_jobs=8)"
   ]
  },
  {
   "cell_type": "code",
   "execution_count": 21,
   "id": "13104045",
   "metadata": {},
   "outputs": [
    {
     "data": {
      "text/html": [
       "<style>#sk-container-id-1 {color: black;}#sk-container-id-1 pre{padding: 0;}#sk-container-id-1 div.sk-toggleable {background-color: white;}#sk-container-id-1 label.sk-toggleable__label {cursor: pointer;display: block;width: 100%;margin-bottom: 0;padding: 0.3em;box-sizing: border-box;text-align: center;}#sk-container-id-1 label.sk-toggleable__label-arrow:before {content: \"▸\";float: left;margin-right: 0.25em;color: #696969;}#sk-container-id-1 label.sk-toggleable__label-arrow:hover:before {color: black;}#sk-container-id-1 div.sk-estimator:hover label.sk-toggleable__label-arrow:before {color: black;}#sk-container-id-1 div.sk-toggleable__content {max-height: 0;max-width: 0;overflow: hidden;text-align: left;background-color: #f0f8ff;}#sk-container-id-1 div.sk-toggleable__content pre {margin: 0.2em;color: black;border-radius: 0.25em;background-color: #f0f8ff;}#sk-container-id-1 input.sk-toggleable__control:checked~div.sk-toggleable__content {max-height: 200px;max-width: 100%;overflow: auto;}#sk-container-id-1 input.sk-toggleable__control:checked~label.sk-toggleable__label-arrow:before {content: \"▾\";}#sk-container-id-1 div.sk-estimator input.sk-toggleable__control:checked~label.sk-toggleable__label {background-color: #d4ebff;}#sk-container-id-1 div.sk-label input.sk-toggleable__control:checked~label.sk-toggleable__label {background-color: #d4ebff;}#sk-container-id-1 input.sk-hidden--visually {border: 0;clip: rect(1px 1px 1px 1px);clip: rect(1px, 1px, 1px, 1px);height: 1px;margin: -1px;overflow: hidden;padding: 0;position: absolute;width: 1px;}#sk-container-id-1 div.sk-estimator {font-family: monospace;background-color: #f0f8ff;border: 1px dotted black;border-radius: 0.25em;box-sizing: border-box;margin-bottom: 0.5em;}#sk-container-id-1 div.sk-estimator:hover {background-color: #d4ebff;}#sk-container-id-1 div.sk-parallel-item::after {content: \"\";width: 100%;border-bottom: 1px solid gray;flex-grow: 1;}#sk-container-id-1 div.sk-label:hover label.sk-toggleable__label {background-color: #d4ebff;}#sk-container-id-1 div.sk-serial::before {content: \"\";position: absolute;border-left: 1px solid gray;box-sizing: border-box;top: 0;bottom: 0;left: 50%;z-index: 0;}#sk-container-id-1 div.sk-serial {display: flex;flex-direction: column;align-items: center;background-color: white;padding-right: 0.2em;padding-left: 0.2em;position: relative;}#sk-container-id-1 div.sk-item {position: relative;z-index: 1;}#sk-container-id-1 div.sk-parallel {display: flex;align-items: stretch;justify-content: center;background-color: white;position: relative;}#sk-container-id-1 div.sk-item::before, #sk-container-id-1 div.sk-parallel-item::before {content: \"\";position: absolute;border-left: 1px solid gray;box-sizing: border-box;top: 0;bottom: 0;left: 50%;z-index: -1;}#sk-container-id-1 div.sk-parallel-item {display: flex;flex-direction: column;z-index: 1;position: relative;background-color: white;}#sk-container-id-1 div.sk-parallel-item:first-child::after {align-self: flex-end;width: 50%;}#sk-container-id-1 div.sk-parallel-item:last-child::after {align-self: flex-start;width: 50%;}#sk-container-id-1 div.sk-parallel-item:only-child::after {width: 0;}#sk-container-id-1 div.sk-dashed-wrapped {border: 1px dashed gray;margin: 0 0.4em 0.5em 0.4em;box-sizing: border-box;padding-bottom: 0.4em;background-color: white;}#sk-container-id-1 div.sk-label label {font-family: monospace;font-weight: bold;display: inline-block;line-height: 1.2em;}#sk-container-id-1 div.sk-label-container {text-align: center;}#sk-container-id-1 div.sk-container {/* jupyter's `normalize.less` sets `[hidden] { display: none; }` but bootstrap.min.css set `[hidden] { display: none !important; }` so we also need the `!important` here to be able to override the default hidden behavior on the sphinx rendered scikit-learn.org. See: https://github.com/scikit-learn/scikit-learn/issues/21755 */display: inline-block !important;position: relative;}#sk-container-id-1 div.sk-text-repr-fallback {display: none;}</style><div id=\"sk-container-id-1\" class=\"sk-top-container\"><div class=\"sk-text-repr-fallback\"><pre>GridSearchCV(cv=5,\n",
       "             estimator=Pipeline(steps=[(&#x27;sndard_scaler&#x27;, StandardScaler()),\n",
       "                                       (&#x27;reduce_dimension&#x27;, None),\n",
       "                                       (&#x27;random_forest&#x27;,\n",
       "                                        RandomForestClassifier())]),\n",
       "             n_jobs=8,\n",
       "             param_grid={&#x27;random_forest__max_depth&#x27;: [10, 15, 20, 25, 50, 100,\n",
       "                                                      150, 200, 400, None],\n",
       "                         &#x27;random_forest__min_samples_split&#x27;: [2, 3, 5, 10, 20]})</pre><b>In a Jupyter environment, please rerun this cell to show the HTML representation or trust the notebook. <br />On GitHub, the HTML representation is unable to render, please try loading this page with nbviewer.org.</b></div><div class=\"sk-container\" hidden><div class=\"sk-item sk-dashed-wrapped\"><div class=\"sk-label-container\"><div class=\"sk-label sk-toggleable\"><input class=\"sk-toggleable__control sk-hidden--visually\" id=\"sk-estimator-id-1\" type=\"checkbox\" ><label for=\"sk-estimator-id-1\" class=\"sk-toggleable__label sk-toggleable__label-arrow\">GridSearchCV</label><div class=\"sk-toggleable__content\"><pre>GridSearchCV(cv=5,\n",
       "             estimator=Pipeline(steps=[(&#x27;sndard_scaler&#x27;, StandardScaler()),\n",
       "                                       (&#x27;reduce_dimension&#x27;, None),\n",
       "                                       (&#x27;random_forest&#x27;,\n",
       "                                        RandomForestClassifier())]),\n",
       "             n_jobs=8,\n",
       "             param_grid={&#x27;random_forest__max_depth&#x27;: [10, 15, 20, 25, 50, 100,\n",
       "                                                      150, 200, 400, None],\n",
       "                         &#x27;random_forest__min_samples_split&#x27;: [2, 3, 5, 10, 20]})</pre></div></div></div><div class=\"sk-parallel\"><div class=\"sk-parallel-item\"><div class=\"sk-item\"><div class=\"sk-label-container\"><div class=\"sk-label sk-toggleable\"><input class=\"sk-toggleable__control sk-hidden--visually\" id=\"sk-estimator-id-2\" type=\"checkbox\" ><label for=\"sk-estimator-id-2\" class=\"sk-toggleable__label sk-toggleable__label-arrow\">estimator: Pipeline</label><div class=\"sk-toggleable__content\"><pre>Pipeline(steps=[(&#x27;sndard_scaler&#x27;, StandardScaler()), (&#x27;reduce_dimension&#x27;, None),\n",
       "                (&#x27;random_forest&#x27;, RandomForestClassifier())])</pre></div></div></div><div class=\"sk-serial\"><div class=\"sk-item\"><div class=\"sk-serial\"><div class=\"sk-item\"><div class=\"sk-estimator sk-toggleable\"><input class=\"sk-toggleable__control sk-hidden--visually\" id=\"sk-estimator-id-3\" type=\"checkbox\" ><label for=\"sk-estimator-id-3\" class=\"sk-toggleable__label sk-toggleable__label-arrow\">StandardScaler</label><div class=\"sk-toggleable__content\"><pre>StandardScaler()</pre></div></div></div><div class=\"sk-item\"><div class=\"sk-estimator sk-toggleable\"><input class=\"sk-toggleable__control sk-hidden--visually\" id=\"sk-estimator-id-4\" type=\"checkbox\" ><label for=\"sk-estimator-id-4\" class=\"sk-toggleable__label sk-toggleable__label-arrow\">None</label><div class=\"sk-toggleable__content\"><pre>None</pre></div></div></div><div class=\"sk-item\"><div class=\"sk-estimator sk-toggleable\"><input class=\"sk-toggleable__control sk-hidden--visually\" id=\"sk-estimator-id-5\" type=\"checkbox\" ><label for=\"sk-estimator-id-5\" class=\"sk-toggleable__label sk-toggleable__label-arrow\">RandomForestClassifier</label><div class=\"sk-toggleable__content\"><pre>RandomForestClassifier()</pre></div></div></div></div></div></div></div></div></div></div></div></div>"
      ],
      "text/plain": [
       "GridSearchCV(cv=5,\n",
       "             estimator=Pipeline(steps=[('sndard_scaler', StandardScaler()),\n",
       "                                       ('reduce_dimension', None),\n",
       "                                       ('random_forest',\n",
       "                                        RandomForestClassifier())]),\n",
       "             n_jobs=8,\n",
       "             param_grid={'random_forest__max_depth': [10, 15, 20, 25, 50, 100,\n",
       "                                                      150, 200, 400, None],\n",
       "                         'random_forest__min_samples_split': [2, 3, 5, 10, 20]})"
      ]
     },
     "execution_count": 21,
     "metadata": {},
     "output_type": "execute_result"
    }
   ],
   "source": [
    "grid_search.fit(song_features_train, song_genres_train)"
   ]
  },
  {
   "cell_type": "code",
   "execution_count": 22,
   "id": "a8c52fdc",
   "metadata": {},
   "outputs": [
    {
     "data": {
      "text/plain": [
       "{'random_forest__max_depth': 200, 'random_forest__min_samples_split': 2}"
      ]
     },
     "execution_count": 22,
     "metadata": {},
     "output_type": "execute_result"
    }
   ],
   "source": [
    "grid_search.best_params_"
   ]
  },
  {
   "cell_type": "code",
   "execution_count": 23,
   "id": "da92541f",
   "metadata": {},
   "outputs": [],
   "source": [
    "train_score = grid_search.best_estimator_.score(song_features_train, song_genres_train)"
   ]
  },
  {
   "cell_type": "code",
   "execution_count": 24,
   "id": "40062636",
   "metadata": {},
   "outputs": [
    {
     "data": {
      "text/plain": [
       "0.9994006592747977"
      ]
     },
     "execution_count": 24,
     "metadata": {},
     "output_type": "execute_result"
    }
   ],
   "source": [
    "train_score"
   ]
  },
  {
   "cell_type": "code",
   "execution_count": 25,
   "id": "6799ef7e",
   "metadata": {},
   "outputs": [],
   "source": [
    "validation_score = grid_search.best_estimator_.score(song_features_val, song_genres_val)"
   ]
  },
  {
   "cell_type": "code",
   "execution_count": 26,
   "id": "ddae0408",
   "metadata": {},
   "outputs": [
    {
     "data": {
      "text/plain": [
       "0.8585979628520072"
      ]
     },
     "execution_count": 26,
     "metadata": {},
     "output_type": "execute_result"
    }
   ],
   "source": [
    "validation_score"
   ]
  },
  {
   "cell_type": "code",
   "execution_count": 27,
   "id": "1eaa2fa4",
   "metadata": {},
   "outputs": [
    {
     "name": "stdout",
     "output_type": "stream",
     "text": [
      "              precision    recall  f1-score   support\n",
      "\n",
      "       blues       0.86      0.85      0.85       198\n",
      "   classical       0.95      0.88      0.91       200\n",
      "     country       0.82      0.79      0.80       188\n",
      "       disco       0.87      0.81      0.84       194\n",
      "      hiphop       0.82      0.92      0.86       159\n",
      "        jazz       0.84      0.84      0.84       166\n",
      "       metal       0.92      0.88      0.90       192\n",
      "         pop       0.91      0.91      0.91       176\n",
      "      reggae       0.84      0.87      0.86       174\n",
      "        rock       0.43      0.91      0.58        22\n",
      "\n",
      "    accuracy                           0.86      1669\n",
      "   macro avg       0.83      0.86      0.84      1669\n",
      "weighted avg       0.87      0.86      0.86      1669\n",
      "\n"
     ]
    }
   ],
   "source": [
    "mlflow_log_classification_report(song_features_val, song_genres_val,\\\n",
    "                            grid_search.best_estimator_, target_names=label_encoder.classes_)"
   ]
  },
  {
   "cell_type": "code",
   "execution_count": 28,
   "id": "768daf19",
   "metadata": {},
   "outputs": [],
   "source": [
    "mlflow_log_model(grid_search, train_score, validation_score)\n",
    "mlflow.end_run()"
   ]
  },
  {
   "cell_type": "markdown",
   "id": "31e6e5cf",
   "metadata": {},
   "source": [
    "### By min sample leafs"
   ]
  },
  {
   "cell_type": "code",
   "execution_count": 29,
   "id": "22514a91",
   "metadata": {},
   "outputs": [],
   "source": [
    "experiment = mlflow.create_experiment(name = f\"Random Forest, min sample leaf - {sample_length} sec\".format(sample_length))"
   ]
  },
  {
   "cell_type": "code",
   "execution_count": 30,
   "id": "d398ed16",
   "metadata": {},
   "outputs": [],
   "source": [
    "run = mlflow.start_run(experiment_id=experiment)"
   ]
  },
  {
   "cell_type": "code",
   "execution_count": 31,
   "id": "04362b80",
   "metadata": {},
   "outputs": [],
   "source": [
    "mlflow.log_artifact(data_file)\n",
    "mlflow.log_input(dataset)"
   ]
  },
  {
   "cell_type": "code",
   "execution_count": 32,
   "id": "47de5653",
   "metadata": {},
   "outputs": [],
   "source": [
    "grid_search = GridSearchCV(train_pipeline,\n",
    "    param_grid={\n",
    "        \"random_forest__max_depth\" : [ 10, 20, 50, 100, 150, 200, 400, 600, None],\n",
    "        \"random_forest__min_samples_leaf\": [1, 2, 3, 5, 10, 20]\n",
    "    }, cv = 5, n_jobs=8)"
   ]
  },
  {
   "cell_type": "code",
   "execution_count": 33,
   "id": "0bab700c",
   "metadata": {},
   "outputs": [
    {
     "data": {
      "text/html": [
       "<style>#sk-container-id-2 {color: black;}#sk-container-id-2 pre{padding: 0;}#sk-container-id-2 div.sk-toggleable {background-color: white;}#sk-container-id-2 label.sk-toggleable__label {cursor: pointer;display: block;width: 100%;margin-bottom: 0;padding: 0.3em;box-sizing: border-box;text-align: center;}#sk-container-id-2 label.sk-toggleable__label-arrow:before {content: \"▸\";float: left;margin-right: 0.25em;color: #696969;}#sk-container-id-2 label.sk-toggleable__label-arrow:hover:before {color: black;}#sk-container-id-2 div.sk-estimator:hover label.sk-toggleable__label-arrow:before {color: black;}#sk-container-id-2 div.sk-toggleable__content {max-height: 0;max-width: 0;overflow: hidden;text-align: left;background-color: #f0f8ff;}#sk-container-id-2 div.sk-toggleable__content pre {margin: 0.2em;color: black;border-radius: 0.25em;background-color: #f0f8ff;}#sk-container-id-2 input.sk-toggleable__control:checked~div.sk-toggleable__content {max-height: 200px;max-width: 100%;overflow: auto;}#sk-container-id-2 input.sk-toggleable__control:checked~label.sk-toggleable__label-arrow:before {content: \"▾\";}#sk-container-id-2 div.sk-estimator input.sk-toggleable__control:checked~label.sk-toggleable__label {background-color: #d4ebff;}#sk-container-id-2 div.sk-label input.sk-toggleable__control:checked~label.sk-toggleable__label {background-color: #d4ebff;}#sk-container-id-2 input.sk-hidden--visually {border: 0;clip: rect(1px 1px 1px 1px);clip: rect(1px, 1px, 1px, 1px);height: 1px;margin: -1px;overflow: hidden;padding: 0;position: absolute;width: 1px;}#sk-container-id-2 div.sk-estimator {font-family: monospace;background-color: #f0f8ff;border: 1px dotted black;border-radius: 0.25em;box-sizing: border-box;margin-bottom: 0.5em;}#sk-container-id-2 div.sk-estimator:hover {background-color: #d4ebff;}#sk-container-id-2 div.sk-parallel-item::after {content: \"\";width: 100%;border-bottom: 1px solid gray;flex-grow: 1;}#sk-container-id-2 div.sk-label:hover label.sk-toggleable__label {background-color: #d4ebff;}#sk-container-id-2 div.sk-serial::before {content: \"\";position: absolute;border-left: 1px solid gray;box-sizing: border-box;top: 0;bottom: 0;left: 50%;z-index: 0;}#sk-container-id-2 div.sk-serial {display: flex;flex-direction: column;align-items: center;background-color: white;padding-right: 0.2em;padding-left: 0.2em;position: relative;}#sk-container-id-2 div.sk-item {position: relative;z-index: 1;}#sk-container-id-2 div.sk-parallel {display: flex;align-items: stretch;justify-content: center;background-color: white;position: relative;}#sk-container-id-2 div.sk-item::before, #sk-container-id-2 div.sk-parallel-item::before {content: \"\";position: absolute;border-left: 1px solid gray;box-sizing: border-box;top: 0;bottom: 0;left: 50%;z-index: -1;}#sk-container-id-2 div.sk-parallel-item {display: flex;flex-direction: column;z-index: 1;position: relative;background-color: white;}#sk-container-id-2 div.sk-parallel-item:first-child::after {align-self: flex-end;width: 50%;}#sk-container-id-2 div.sk-parallel-item:last-child::after {align-self: flex-start;width: 50%;}#sk-container-id-2 div.sk-parallel-item:only-child::after {width: 0;}#sk-container-id-2 div.sk-dashed-wrapped {border: 1px dashed gray;margin: 0 0.4em 0.5em 0.4em;box-sizing: border-box;padding-bottom: 0.4em;background-color: white;}#sk-container-id-2 div.sk-label label {font-family: monospace;font-weight: bold;display: inline-block;line-height: 1.2em;}#sk-container-id-2 div.sk-label-container {text-align: center;}#sk-container-id-2 div.sk-container {/* jupyter's `normalize.less` sets `[hidden] { display: none; }` but bootstrap.min.css set `[hidden] { display: none !important; }` so we also need the `!important` here to be able to override the default hidden behavior on the sphinx rendered scikit-learn.org. See: https://github.com/scikit-learn/scikit-learn/issues/21755 */display: inline-block !important;position: relative;}#sk-container-id-2 div.sk-text-repr-fallback {display: none;}</style><div id=\"sk-container-id-2\" class=\"sk-top-container\"><div class=\"sk-text-repr-fallback\"><pre>GridSearchCV(cv=5,\n",
       "             estimator=Pipeline(steps=[(&#x27;sndard_scaler&#x27;, StandardScaler()),\n",
       "                                       (&#x27;reduce_dimension&#x27;, None),\n",
       "                                       (&#x27;random_forest&#x27;,\n",
       "                                        RandomForestClassifier())]),\n",
       "             n_jobs=8,\n",
       "             param_grid={&#x27;random_forest__max_depth&#x27;: [10, 20, 50, 100, 150, 200,\n",
       "                                                      400, 600, None],\n",
       "                         &#x27;random_forest__min_samples_leaf&#x27;: [1, 2, 3, 5, 10,\n",
       "                                                             20]})</pre><b>In a Jupyter environment, please rerun this cell to show the HTML representation or trust the notebook. <br />On GitHub, the HTML representation is unable to render, please try loading this page with nbviewer.org.</b></div><div class=\"sk-container\" hidden><div class=\"sk-item sk-dashed-wrapped\"><div class=\"sk-label-container\"><div class=\"sk-label sk-toggleable\"><input class=\"sk-toggleable__control sk-hidden--visually\" id=\"sk-estimator-id-6\" type=\"checkbox\" ><label for=\"sk-estimator-id-6\" class=\"sk-toggleable__label sk-toggleable__label-arrow\">GridSearchCV</label><div class=\"sk-toggleable__content\"><pre>GridSearchCV(cv=5,\n",
       "             estimator=Pipeline(steps=[(&#x27;sndard_scaler&#x27;, StandardScaler()),\n",
       "                                       (&#x27;reduce_dimension&#x27;, None),\n",
       "                                       (&#x27;random_forest&#x27;,\n",
       "                                        RandomForestClassifier())]),\n",
       "             n_jobs=8,\n",
       "             param_grid={&#x27;random_forest__max_depth&#x27;: [10, 20, 50, 100, 150, 200,\n",
       "                                                      400, 600, None],\n",
       "                         &#x27;random_forest__min_samples_leaf&#x27;: [1, 2, 3, 5, 10,\n",
       "                                                             20]})</pre></div></div></div><div class=\"sk-parallel\"><div class=\"sk-parallel-item\"><div class=\"sk-item\"><div class=\"sk-label-container\"><div class=\"sk-label sk-toggleable\"><input class=\"sk-toggleable__control sk-hidden--visually\" id=\"sk-estimator-id-7\" type=\"checkbox\" ><label for=\"sk-estimator-id-7\" class=\"sk-toggleable__label sk-toggleable__label-arrow\">estimator: Pipeline</label><div class=\"sk-toggleable__content\"><pre>Pipeline(steps=[(&#x27;sndard_scaler&#x27;, StandardScaler()), (&#x27;reduce_dimension&#x27;, None),\n",
       "                (&#x27;random_forest&#x27;, RandomForestClassifier())])</pre></div></div></div><div class=\"sk-serial\"><div class=\"sk-item\"><div class=\"sk-serial\"><div class=\"sk-item\"><div class=\"sk-estimator sk-toggleable\"><input class=\"sk-toggleable__control sk-hidden--visually\" id=\"sk-estimator-id-8\" type=\"checkbox\" ><label for=\"sk-estimator-id-8\" class=\"sk-toggleable__label sk-toggleable__label-arrow\">StandardScaler</label><div class=\"sk-toggleable__content\"><pre>StandardScaler()</pre></div></div></div><div class=\"sk-item\"><div class=\"sk-estimator sk-toggleable\"><input class=\"sk-toggleable__control sk-hidden--visually\" id=\"sk-estimator-id-9\" type=\"checkbox\" ><label for=\"sk-estimator-id-9\" class=\"sk-toggleable__label sk-toggleable__label-arrow\">None</label><div class=\"sk-toggleable__content\"><pre>None</pre></div></div></div><div class=\"sk-item\"><div class=\"sk-estimator sk-toggleable\"><input class=\"sk-toggleable__control sk-hidden--visually\" id=\"sk-estimator-id-10\" type=\"checkbox\" ><label for=\"sk-estimator-id-10\" class=\"sk-toggleable__label sk-toggleable__label-arrow\">RandomForestClassifier</label><div class=\"sk-toggleable__content\"><pre>RandomForestClassifier()</pre></div></div></div></div></div></div></div></div></div></div></div></div>"
      ],
      "text/plain": [
       "GridSearchCV(cv=5,\n",
       "             estimator=Pipeline(steps=[('sndard_scaler', StandardScaler()),\n",
       "                                       ('reduce_dimension', None),\n",
       "                                       ('random_forest',\n",
       "                                        RandomForestClassifier())]),\n",
       "             n_jobs=8,\n",
       "             param_grid={'random_forest__max_depth': [10, 20, 50, 100, 150, 200,\n",
       "                                                      400, 600, None],\n",
       "                         'random_forest__min_samples_leaf': [1, 2, 3, 5, 10,\n",
       "                                                             20]})"
      ]
     },
     "execution_count": 33,
     "metadata": {},
     "output_type": "execute_result"
    }
   ],
   "source": [
    "grid_search.fit(song_features_train, song_genres_train)"
   ]
  },
  {
   "cell_type": "code",
   "execution_count": 34,
   "id": "d216bc09",
   "metadata": {},
   "outputs": [
    {
     "data": {
      "text/plain": [
       "{'random_forest__max_depth': 50, 'random_forest__min_samples_leaf': 1}"
      ]
     },
     "execution_count": 34,
     "metadata": {},
     "output_type": "execute_result"
    }
   ],
   "source": [
    "grid_search.best_params_"
   ]
  },
  {
   "cell_type": "code",
   "execution_count": 35,
   "id": "3a154e40",
   "metadata": {},
   "outputs": [],
   "source": [
    "train_score = grid_search.best_estimator_.score(song_features_train, song_genres_train)"
   ]
  },
  {
   "cell_type": "code",
   "execution_count": 36,
   "id": "5439c519",
   "metadata": {},
   "outputs": [
    {
     "data": {
      "text/plain": [
       "0.9994006592747977"
      ]
     },
     "execution_count": 36,
     "metadata": {},
     "output_type": "execute_result"
    }
   ],
   "source": [
    "train_score"
   ]
  },
  {
   "cell_type": "code",
   "execution_count": 37,
   "id": "8b2aa6ab",
   "metadata": {},
   "outputs": [],
   "source": [
    "validation_score = grid_search.best_estimator_.score(song_features_val, song_genres_val)"
   ]
  },
  {
   "cell_type": "code",
   "execution_count": 38,
   "id": "c0e5d935",
   "metadata": {},
   "outputs": [
    {
     "data": {
      "text/plain": [
       "0.8550029958058718"
      ]
     },
     "execution_count": 38,
     "metadata": {},
     "output_type": "execute_result"
    }
   ],
   "source": [
    "validation_score"
   ]
  },
  {
   "cell_type": "code",
   "execution_count": 39,
   "id": "252454d0",
   "metadata": {},
   "outputs": [
    {
     "name": "stdout",
     "output_type": "stream",
     "text": [
      "              precision    recall  f1-score   support\n",
      "\n",
      "       blues       0.85      0.86      0.86       192\n",
      "   classical       0.96      0.89      0.92       197\n",
      "     country       0.81      0.78      0.80       187\n",
      "       disco       0.85      0.82      0.83       187\n",
      "      hiphop       0.83      0.91      0.87       163\n",
      "        jazz       0.82      0.79      0.80       173\n",
      "       metal       0.94      0.87      0.90       197\n",
      "         pop       0.91      0.91      0.91       175\n",
      "      reggae       0.83      0.86      0.85       176\n",
      "        rock       0.43      0.91      0.58        22\n",
      "\n",
      "    accuracy                           0.86      1669\n",
      "   macro avg       0.82      0.86      0.83      1669\n",
      "weighted avg       0.86      0.86      0.86      1669\n",
      "\n"
     ]
    }
   ],
   "source": [
    "mlflow_log_classification_report(song_features_val, song_genres_val,\\\n",
    "                            grid_search.best_estimator_, target_names=label_encoder.classes_)"
   ]
  },
  {
   "cell_type": "code",
   "execution_count": 40,
   "id": "7ccc9011",
   "metadata": {},
   "outputs": [],
   "source": [
    "mlflow_log_model(grid_search, train_score, validation_score)\n",
    "mlflow.end_run()"
   ]
  }
 ],
 "metadata": {
  "kernelspec": {
   "display_name": "Python 3 (ipykernel)",
   "language": "python",
   "name": "python3"
  },
  "language_info": {
   "codemirror_mode": {
    "name": "ipython",
    "version": 3
   },
   "file_extension": ".py",
   "mimetype": "text/x-python",
   "name": "python",
   "nbconvert_exporter": "python",
   "pygments_lexer": "ipython3",
   "version": "3.11.5"
  }
 },
 "nbformat": 4,
 "nbformat_minor": 5
}
