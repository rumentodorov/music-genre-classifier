{
 "cells": [
  {
   "cell_type": "code",
   "execution_count": 1,
   "id": "eca7e7a0",
   "metadata": {},
   "outputs": [],
   "source": [
    "%matplotlib inline"
   ]
  },
  {
   "cell_type": "code",
   "execution_count": 2,
   "id": "ed7235e9",
   "metadata": {},
   "outputs": [],
   "source": [
    "import warnings\n",
    "\n",
    "import pandas as pd\n",
    "\n",
    "from report import mlflow_log_classification_report, mlflow_log_model\n",
    "import constants\n",
    "\n",
    "from sklearn.pipeline import Pipeline\n",
    "\n",
    "from sklearn.preprocessing import LabelEncoder, StandardScaler\n",
    "from sklearn.model_selection import train_test_split, GridSearchCV\n",
    "\n",
    "from sklearn.ensemble import RandomForestClassifier\n",
    "\n",
    "import mlflow\n",
    "import mlflow.sklearn\n",
    "from mlflow.data.pandas_dataset import PandasDataset"
   ]
  },
  {
   "cell_type": "code",
   "execution_count": 3,
   "id": "66e18add",
   "metadata": {},
   "outputs": [],
   "source": [
    "warnings.filterwarnings(\"ignore\", \"Setuptools is replacing distutils.\")\n",
    "warnings.simplefilter(\"ignore\", category=FutureWarning)\n",
    "warnings.simplefilter(\"ignore\", category=UserWarning)"
   ]
  },
  {
   "cell_type": "markdown",
   "id": "944775ac",
   "metadata": {},
   "source": [
    "# Music Genre Classifier Model Selection"
   ]
  },
  {
   "cell_type": "markdown",
   "id": "225f20aa",
   "metadata": {},
   "source": [
    "## Optimizing Random Forest Classifier"
   ]
  },
  {
   "cell_type": "code",
   "execution_count": 4,
   "id": "6f0ebaef",
   "metadata": {},
   "outputs": [],
   "source": [
    "sample_length = 30"
   ]
  },
  {
   "cell_type": "code",
   "execution_count": 5,
   "id": "7ecf5156",
   "metadata": {},
   "outputs": [],
   "source": [
    "data_file = f\"../data/{sample_length}_seconds_song_features.csv\".format(sample_length)"
   ]
  },
  {
   "cell_type": "code",
   "execution_count": 6,
   "id": "d850c978",
   "metadata": {},
   "outputs": [],
   "source": [
    "songs = pd.read_csv(data_file, low_memory=False)"
   ]
  },
  {
   "cell_type": "code",
   "execution_count": 7,
   "id": "72874227",
   "metadata": {},
   "outputs": [
    {
     "data": {
      "text/html": [
       "<div>\n",
       "<style scoped>\n",
       "    .dataframe tbody tr th:only-of-type {\n",
       "        vertical-align: middle;\n",
       "    }\n",
       "\n",
       "    .dataframe tbody tr th {\n",
       "        vertical-align: top;\n",
       "    }\n",
       "\n",
       "    .dataframe thead th {\n",
       "        text-align: right;\n",
       "    }\n",
       "</style>\n",
       "<table border=\"1\" class=\"dataframe\">\n",
       "  <thead>\n",
       "    <tr style=\"text-align: right;\">\n",
       "      <th></th>\n",
       "      <th>zero_crossings_max</th>\n",
       "      <th>zero_crossings_min</th>\n",
       "      <th>zero_crossings_mean</th>\n",
       "      <th>zero_crossings_std</th>\n",
       "      <th>zero_crossings_kurtosis</th>\n",
       "      <th>zero_crossings_skew</th>\n",
       "      <th>centroid_max</th>\n",
       "      <th>centroid_min</th>\n",
       "      <th>centroid_mean</th>\n",
       "      <th>centroid_std</th>\n",
       "      <th>...</th>\n",
       "      <th>mfcc_11_skew</th>\n",
       "      <th>mfcc_12_max</th>\n",
       "      <th>mfcc_12_min</th>\n",
       "      <th>mfcc_12_mean</th>\n",
       "      <th>mfcc_12_std</th>\n",
       "      <th>mfcc_12_kurtosis</th>\n",
       "      <th>mfcc_12_skew</th>\n",
       "      <th>tempo</th>\n",
       "      <th>genre</th>\n",
       "      <th>file</th>\n",
       "    </tr>\n",
       "  </thead>\n",
       "  <tbody>\n",
       "    <tr>\n",
       "      <th>0</th>\n",
       "      <td>0.752441</td>\n",
       "      <td>0.009766</td>\n",
       "      <td>0.144590</td>\n",
       "      <td>0.082585</td>\n",
       "      <td>9.540830</td>\n",
       "      <td>2.444111</td>\n",
       "      <td>7412.694108</td>\n",
       "      <td>1022.153015</td>\n",
       "      <td>3302.342044</td>\n",
       "      <td>893.866324</td>\n",
       "      <td>...</td>\n",
       "      <td>0.002264</td>\n",
       "      <td>21.563793</td>\n",
       "      <td>-23.538502</td>\n",
       "      <td>0.544136</td>\n",
       "      <td>7.403120</td>\n",
       "      <td>0.046500</td>\n",
       "      <td>-0.178789</td>\n",
       "      <td>117.453835</td>\n",
       "      <td>pop</td>\n",
       "      <td>pop.00024.wav</td>\n",
       "    </tr>\n",
       "    <tr>\n",
       "      <th>1</th>\n",
       "      <td>0.682129</td>\n",
       "      <td>0.011719</td>\n",
       "      <td>0.145827</td>\n",
       "      <td>0.108406</td>\n",
       "      <td>4.443655</td>\n",
       "      <td>1.947596</td>\n",
       "      <td>8040.036703</td>\n",
       "      <td>965.917225</td>\n",
       "      <td>2940.712732</td>\n",
       "      <td>1290.550571</td>\n",
       "      <td>...</td>\n",
       "      <td>0.053169</td>\n",
       "      <td>24.365047</td>\n",
       "      <td>-36.742607</td>\n",
       "      <td>-3.502535</td>\n",
       "      <td>8.535687</td>\n",
       "      <td>0.208987</td>\n",
       "      <td>-0.296028</td>\n",
       "      <td>99.384014</td>\n",
       "      <td>pop</td>\n",
       "      <td>pop.00058.wav</td>\n",
       "    </tr>\n",
       "    <tr>\n",
       "      <th>2</th>\n",
       "      <td>0.676270</td>\n",
       "      <td>0.018066</td>\n",
       "      <td>0.121279</td>\n",
       "      <td>0.089060</td>\n",
       "      <td>13.139049</td>\n",
       "      <td>3.260256</td>\n",
       "      <td>7513.716630</td>\n",
       "      <td>698.671998</td>\n",
       "      <td>2885.707646</td>\n",
       "      <td>988.136171</td>\n",
       "      <td>...</td>\n",
       "      <td>-0.240175</td>\n",
       "      <td>15.289233</td>\n",
       "      <td>-25.785180</td>\n",
       "      <td>-2.685357</td>\n",
       "      <td>6.333065</td>\n",
       "      <td>0.292852</td>\n",
       "      <td>-0.318905</td>\n",
       "      <td>161.499023</td>\n",
       "      <td>pop</td>\n",
       "      <td>pop.00008.wav</td>\n",
       "    </tr>\n",
       "    <tr>\n",
       "      <th>3</th>\n",
       "      <td>0.674316</td>\n",
       "      <td>0.003906</td>\n",
       "      <td>0.072507</td>\n",
       "      <td>0.074976</td>\n",
       "      <td>27.751176</td>\n",
       "      <td>4.805041</td>\n",
       "      <td>7523.680993</td>\n",
       "      <td>753.456471</td>\n",
       "      <td>1996.214762</td>\n",
       "      <td>978.055235</td>\n",
       "      <td>...</td>\n",
       "      <td>-0.073378</td>\n",
       "      <td>19.543030</td>\n",
       "      <td>-21.030888</td>\n",
       "      <td>-3.200028</td>\n",
       "      <td>5.797513</td>\n",
       "      <td>0.272921</td>\n",
       "      <td>0.051250</td>\n",
       "      <td>112.347147</td>\n",
       "      <td>pop</td>\n",
       "      <td>pop.00079.wav</td>\n",
       "    </tr>\n",
       "    <tr>\n",
       "      <th>4</th>\n",
       "      <td>0.671387</td>\n",
       "      <td>0.007812</td>\n",
       "      <td>0.142882</td>\n",
       "      <td>0.092810</td>\n",
       "      <td>2.602808</td>\n",
       "      <td>1.200830</td>\n",
       "      <td>7387.704967</td>\n",
       "      <td>595.120877</td>\n",
       "      <td>3126.086716</td>\n",
       "      <td>972.528281</td>\n",
       "      <td>...</td>\n",
       "      <td>0.632891</td>\n",
       "      <td>27.504042</td>\n",
       "      <td>-34.374443</td>\n",
       "      <td>-1.224632</td>\n",
       "      <td>8.387035</td>\n",
       "      <td>0.740220</td>\n",
       "      <td>-0.310612</td>\n",
       "      <td>103.359375</td>\n",
       "      <td>pop</td>\n",
       "      <td>pop.00078.wav</td>\n",
       "    </tr>\n",
       "    <tr>\n",
       "      <th>...</th>\n",
       "      <td>...</td>\n",
       "      <td>...</td>\n",
       "      <td>...</td>\n",
       "      <td>...</td>\n",
       "      <td>...</td>\n",
       "      <td>...</td>\n",
       "      <td>...</td>\n",
       "      <td>...</td>\n",
       "      <td>...</td>\n",
       "      <td>...</td>\n",
       "      <td>...</td>\n",
       "      <td>...</td>\n",
       "      <td>...</td>\n",
       "      <td>...</td>\n",
       "      <td>...</td>\n",
       "      <td>...</td>\n",
       "      <td>...</td>\n",
       "      <td>...</td>\n",
       "      <td>...</td>\n",
       "      <td>...</td>\n",
       "      <td>...</td>\n",
       "    </tr>\n",
       "    <tr>\n",
       "      <th>922</th>\n",
       "      <td>0.429688</td>\n",
       "      <td>0.013184</td>\n",
       "      <td>0.154277</td>\n",
       "      <td>0.057703</td>\n",
       "      <td>2.119194</td>\n",
       "      <td>0.693468</td>\n",
       "      <td>5543.291625</td>\n",
       "      <td>1080.617808</td>\n",
       "      <td>2615.398850</td>\n",
       "      <td>585.437364</td>\n",
       "      <td>...</td>\n",
       "      <td>0.149398</td>\n",
       "      <td>37.331573</td>\n",
       "      <td>-31.768559</td>\n",
       "      <td>-7.373089</td>\n",
       "      <td>7.614615</td>\n",
       "      <td>0.856139</td>\n",
       "      <td>0.197147</td>\n",
       "      <td>99.384014</td>\n",
       "      <td>disco</td>\n",
       "      <td>disco.00048.wav</td>\n",
       "    </tr>\n",
       "    <tr>\n",
       "      <th>923</th>\n",
       "      <td>0.484863</td>\n",
       "      <td>0.058594</td>\n",
       "      <td>0.169988</td>\n",
       "      <td>0.051547</td>\n",
       "      <td>7.649568</td>\n",
       "      <td>2.056028</td>\n",
       "      <td>5212.853055</td>\n",
       "      <td>1473.049674</td>\n",
       "      <td>2592.271461</td>\n",
       "      <td>506.006198</td>\n",
       "      <td>...</td>\n",
       "      <td>-0.172077</td>\n",
       "      <td>13.354691</td>\n",
       "      <td>-36.042137</td>\n",
       "      <td>-12.028731</td>\n",
       "      <td>7.713210</td>\n",
       "      <td>0.087752</td>\n",
       "      <td>0.043065</td>\n",
       "      <td>123.046875</td>\n",
       "      <td>disco</td>\n",
       "      <td>disco.00052.wav</td>\n",
       "    </tr>\n",
       "    <tr>\n",
       "      <th>924</th>\n",
       "      <td>0.454590</td>\n",
       "      <td>0.014648</td>\n",
       "      <td>0.131841</td>\n",
       "      <td>0.062179</td>\n",
       "      <td>2.818245</td>\n",
       "      <td>1.299597</td>\n",
       "      <td>5822.532186</td>\n",
       "      <td>851.802097</td>\n",
       "      <td>2739.275175</td>\n",
       "      <td>699.574463</td>\n",
       "      <td>...</td>\n",
       "      <td>-0.494983</td>\n",
       "      <td>19.650800</td>\n",
       "      <td>-27.985397</td>\n",
       "      <td>0.808960</td>\n",
       "      <td>7.346756</td>\n",
       "      <td>0.232449</td>\n",
       "      <td>-0.351014</td>\n",
       "      <td>112.347147</td>\n",
       "      <td>disco</td>\n",
       "      <td>disco.00012.wav</td>\n",
       "    </tr>\n",
       "    <tr>\n",
       "      <th>925</th>\n",
       "      <td>0.419434</td>\n",
       "      <td>0.035645</td>\n",
       "      <td>0.138467</td>\n",
       "      <td>0.050052</td>\n",
       "      <td>4.400630</td>\n",
       "      <td>1.600552</td>\n",
       "      <td>6249.889744</td>\n",
       "      <td>1345.064509</td>\n",
       "      <td>3075.215095</td>\n",
       "      <td>620.704023</td>\n",
       "      <td>...</td>\n",
       "      <td>-0.080007</td>\n",
       "      <td>16.779268</td>\n",
       "      <td>-32.086174</td>\n",
       "      <td>-2.831664</td>\n",
       "      <td>7.741563</td>\n",
       "      <td>0.192752</td>\n",
       "      <td>-0.446212</td>\n",
       "      <td>103.359375</td>\n",
       "      <td>disco</td>\n",
       "      <td>disco.00029.wav</td>\n",
       "    </tr>\n",
       "    <tr>\n",
       "      <th>926</th>\n",
       "      <td>0.475586</td>\n",
       "      <td>0.007812</td>\n",
       "      <td>0.101320</td>\n",
       "      <td>0.074296</td>\n",
       "      <td>3.008508</td>\n",
       "      <td>1.482570</td>\n",
       "      <td>6858.786183</td>\n",
       "      <td>481.744544</td>\n",
       "      <td>2911.615945</td>\n",
       "      <td>1220.886162</td>\n",
       "      <td>...</td>\n",
       "      <td>-0.069496</td>\n",
       "      <td>44.661430</td>\n",
       "      <td>-20.323954</td>\n",
       "      <td>7.538565</td>\n",
       "      <td>8.186925</td>\n",
       "      <td>0.259236</td>\n",
       "      <td>0.283485</td>\n",
       "      <td>112.347147</td>\n",
       "      <td>disco</td>\n",
       "      <td>disco.00027.wav</td>\n",
       "    </tr>\n",
       "  </tbody>\n",
       "</table>\n",
       "<p>927 rows × 135 columns</p>\n",
       "</div>"
      ],
      "text/plain": [
       "     zero_crossings_max  zero_crossings_min  zero_crossings_mean  \\\n",
       "0              0.752441            0.009766             0.144590   \n",
       "1              0.682129            0.011719             0.145827   \n",
       "2              0.676270            0.018066             0.121279   \n",
       "3              0.674316            0.003906             0.072507   \n",
       "4              0.671387            0.007812             0.142882   \n",
       "..                  ...                 ...                  ...   \n",
       "922            0.429688            0.013184             0.154277   \n",
       "923            0.484863            0.058594             0.169988   \n",
       "924            0.454590            0.014648             0.131841   \n",
       "925            0.419434            0.035645             0.138467   \n",
       "926            0.475586            0.007812             0.101320   \n",
       "\n",
       "     zero_crossings_std  zero_crossings_kurtosis  zero_crossings_skew  \\\n",
       "0              0.082585                 9.540830             2.444111   \n",
       "1              0.108406                 4.443655             1.947596   \n",
       "2              0.089060                13.139049             3.260256   \n",
       "3              0.074976                27.751176             4.805041   \n",
       "4              0.092810                 2.602808             1.200830   \n",
       "..                  ...                      ...                  ...   \n",
       "922            0.057703                 2.119194             0.693468   \n",
       "923            0.051547                 7.649568             2.056028   \n",
       "924            0.062179                 2.818245             1.299597   \n",
       "925            0.050052                 4.400630             1.600552   \n",
       "926            0.074296                 3.008508             1.482570   \n",
       "\n",
       "     centroid_max  centroid_min  centroid_mean  centroid_std  ...  \\\n",
       "0     7412.694108   1022.153015    3302.342044    893.866324  ...   \n",
       "1     8040.036703    965.917225    2940.712732   1290.550571  ...   \n",
       "2     7513.716630    698.671998    2885.707646    988.136171  ...   \n",
       "3     7523.680993    753.456471    1996.214762    978.055235  ...   \n",
       "4     7387.704967    595.120877    3126.086716    972.528281  ...   \n",
       "..            ...           ...            ...           ...  ...   \n",
       "922   5543.291625   1080.617808    2615.398850    585.437364  ...   \n",
       "923   5212.853055   1473.049674    2592.271461    506.006198  ...   \n",
       "924   5822.532186    851.802097    2739.275175    699.574463  ...   \n",
       "925   6249.889744   1345.064509    3075.215095    620.704023  ...   \n",
       "926   6858.786183    481.744544    2911.615945   1220.886162  ...   \n",
       "\n",
       "     mfcc_11_skew  mfcc_12_max  mfcc_12_min  mfcc_12_mean  mfcc_12_std  \\\n",
       "0        0.002264    21.563793   -23.538502      0.544136     7.403120   \n",
       "1        0.053169    24.365047   -36.742607     -3.502535     8.535687   \n",
       "2       -0.240175    15.289233   -25.785180     -2.685357     6.333065   \n",
       "3       -0.073378    19.543030   -21.030888     -3.200028     5.797513   \n",
       "4        0.632891    27.504042   -34.374443     -1.224632     8.387035   \n",
       "..            ...          ...          ...           ...          ...   \n",
       "922      0.149398    37.331573   -31.768559     -7.373089     7.614615   \n",
       "923     -0.172077    13.354691   -36.042137    -12.028731     7.713210   \n",
       "924     -0.494983    19.650800   -27.985397      0.808960     7.346756   \n",
       "925     -0.080007    16.779268   -32.086174     -2.831664     7.741563   \n",
       "926     -0.069496    44.661430   -20.323954      7.538565     8.186925   \n",
       "\n",
       "     mfcc_12_kurtosis  mfcc_12_skew       tempo  genre             file  \n",
       "0            0.046500     -0.178789  117.453835    pop    pop.00024.wav  \n",
       "1            0.208987     -0.296028   99.384014    pop    pop.00058.wav  \n",
       "2            0.292852     -0.318905  161.499023    pop    pop.00008.wav  \n",
       "3            0.272921      0.051250  112.347147    pop    pop.00079.wav  \n",
       "4            0.740220     -0.310612  103.359375    pop    pop.00078.wav  \n",
       "..                ...           ...         ...    ...              ...  \n",
       "922          0.856139      0.197147   99.384014  disco  disco.00048.wav  \n",
       "923          0.087752      0.043065  123.046875  disco  disco.00052.wav  \n",
       "924          0.232449     -0.351014  112.347147  disco  disco.00012.wav  \n",
       "925          0.192752     -0.446212  103.359375  disco  disco.00029.wav  \n",
       "926          0.259236      0.283485  112.347147  disco  disco.00027.wav  \n",
       "\n",
       "[927 rows x 135 columns]"
      ]
     },
     "execution_count": 7,
     "metadata": {},
     "output_type": "execute_result"
    }
   ],
   "source": [
    "songs"
   ]
  },
  {
   "cell_type": "code",
   "execution_count": 8,
   "id": "2bd7b8a9",
   "metadata": {},
   "outputs": [],
   "source": [
    "song_genres = songs[\"genre\"]"
   ]
  },
  {
   "cell_type": "code",
   "execution_count": 9,
   "id": "a7b78bb8",
   "metadata": {},
   "outputs": [],
   "source": [
    "label_encoder = LabelEncoder()"
   ]
  },
  {
   "cell_type": "code",
   "execution_count": 10,
   "id": "0752901c",
   "metadata": {},
   "outputs": [],
   "source": [
    "encoded_song_genres = label_encoder.fit_transform(song_genres)"
   ]
  },
  {
   "cell_type": "code",
   "execution_count": 11,
   "id": "db7f66a6",
   "metadata": {},
   "outputs": [],
   "source": [
    "song_features = songs.drop(columns=[\"genre\" , \"file\"], axis=1)"
   ]
  },
  {
   "cell_type": "markdown",
   "id": "5f4a0b41",
   "metadata": {},
   "source": [
    "## Test, train and validation split"
   ]
  },
  {
   "cell_type": "code",
   "execution_count": 12,
   "id": "fa5656d1",
   "metadata": {},
   "outputs": [
    {
     "data": {
      "text/plain": [
       "1984"
      ]
     },
     "execution_count": 12,
     "metadata": {},
     "output_type": "execute_result"
    }
   ],
   "source": [
    "constants.RANDOM_STATE"
   ]
  },
  {
   "cell_type": "code",
   "execution_count": 13,
   "id": "0dcaef3d",
   "metadata": {},
   "outputs": [],
   "source": [
    "song_features_intermediate_train, song_features_test, song_genres_intermediate_train, song_genres_test = \\\n",
    "    train_test_split(song_features, song_genres, test_size = 0.1, random_state=constants.RANDOM_STATE)"
   ]
  },
  {
   "cell_type": "code",
   "execution_count": 14,
   "id": "2253c675",
   "metadata": {},
   "outputs": [],
   "source": [
    "song_features_train, song_features_val, song_genres_train, song_genres_val = \\\n",
    "    train_test_split(song_features_intermediate_train, song_genres_intermediate_train, test_size = 0.2,\\\n",
    "                     random_state=constants.RANDOM_STATE)"
   ]
  },
  {
   "cell_type": "markdown",
   "id": "ce752398",
   "metadata": {},
   "source": [
    "## Peraring traning pieline"
   ]
  },
  {
   "cell_type": "code",
   "execution_count": 15,
   "id": "624b4ba1",
   "metadata": {},
   "outputs": [],
   "source": [
    "train_pipeline = Pipeline([\n",
    "    (\"sndard_scaler\", StandardScaler()),\n",
    "    (\"reduce_dimension\", None),\n",
    "    (\"random_forest\", RandomForestClassifier())\n",
    "])"
   ]
  },
  {
   "cell_type": "markdown",
   "id": "86df742b",
   "metadata": {},
   "source": [
    "## Fiding Best Random Forest Classifier"
   ]
  },
  {
   "cell_type": "code",
   "execution_count": 29,
   "id": "eaaf6c86",
   "metadata": {},
   "outputs": [],
   "source": [
    "dataset: PandasDataset = mlflow.data.from_pandas(songs, source=data_file)"
   ]
  },
  {
   "cell_type": "markdown",
   "id": "3144178d",
   "metadata": {},
   "source": [
    "### By min sample split"
   ]
  },
  {
   "cell_type": "code",
   "execution_count": 17,
   "id": "740d5cec",
   "metadata": {},
   "outputs": [],
   "source": [
    "experiment = mlflow.create_experiment(name = f\"Random Forest, min sample split - {sample_length} sec\".format(sample_length))"
   ]
  },
  {
   "cell_type": "code",
   "execution_count": 18,
   "id": "104bdbbd",
   "metadata": {},
   "outputs": [],
   "source": [
    "run = mlflow.start_run(experiment_id=experiment)"
   ]
  },
  {
   "cell_type": "code",
   "execution_count": 19,
   "id": "98d8e292",
   "metadata": {},
   "outputs": [],
   "source": [
    "mlflow.log_artifact(data_file)\n",
    "mlflow.log_input(dataset)"
   ]
  },
  {
   "cell_type": "code",
   "execution_count": 20,
   "id": "ff11bd38",
   "metadata": {},
   "outputs": [],
   "source": [
    "grid_search = GridSearchCV(train_pipeline,\n",
    "    param_grid={\n",
    "        \"random_forest__max_depth\" : [ 10, 20, 50, 100, 150, 200, 400, None],\n",
    "        \"random_forest__min_samples_split\": [2, 3, 5, 10, 20]\n",
    "    }, cv = 5, n_jobs=8)"
   ]
  },
  {
   "cell_type": "code",
   "execution_count": 21,
   "id": "13104045",
   "metadata": {},
   "outputs": [
    {
     "data": {
      "text/html": [
       "<style>#sk-container-id-1 {color: black;}#sk-container-id-1 pre{padding: 0;}#sk-container-id-1 div.sk-toggleable {background-color: white;}#sk-container-id-1 label.sk-toggleable__label {cursor: pointer;display: block;width: 100%;margin-bottom: 0;padding: 0.3em;box-sizing: border-box;text-align: center;}#sk-container-id-1 label.sk-toggleable__label-arrow:before {content: \"▸\";float: left;margin-right: 0.25em;color: #696969;}#sk-container-id-1 label.sk-toggleable__label-arrow:hover:before {color: black;}#sk-container-id-1 div.sk-estimator:hover label.sk-toggleable__label-arrow:before {color: black;}#sk-container-id-1 div.sk-toggleable__content {max-height: 0;max-width: 0;overflow: hidden;text-align: left;background-color: #f0f8ff;}#sk-container-id-1 div.sk-toggleable__content pre {margin: 0.2em;color: black;border-radius: 0.25em;background-color: #f0f8ff;}#sk-container-id-1 input.sk-toggleable__control:checked~div.sk-toggleable__content {max-height: 200px;max-width: 100%;overflow: auto;}#sk-container-id-1 input.sk-toggleable__control:checked~label.sk-toggleable__label-arrow:before {content: \"▾\";}#sk-container-id-1 div.sk-estimator input.sk-toggleable__control:checked~label.sk-toggleable__label {background-color: #d4ebff;}#sk-container-id-1 div.sk-label input.sk-toggleable__control:checked~label.sk-toggleable__label {background-color: #d4ebff;}#sk-container-id-1 input.sk-hidden--visually {border: 0;clip: rect(1px 1px 1px 1px);clip: rect(1px, 1px, 1px, 1px);height: 1px;margin: -1px;overflow: hidden;padding: 0;position: absolute;width: 1px;}#sk-container-id-1 div.sk-estimator {font-family: monospace;background-color: #f0f8ff;border: 1px dotted black;border-radius: 0.25em;box-sizing: border-box;margin-bottom: 0.5em;}#sk-container-id-1 div.sk-estimator:hover {background-color: #d4ebff;}#sk-container-id-1 div.sk-parallel-item::after {content: \"\";width: 100%;border-bottom: 1px solid gray;flex-grow: 1;}#sk-container-id-1 div.sk-label:hover label.sk-toggleable__label {background-color: #d4ebff;}#sk-container-id-1 div.sk-serial::before {content: \"\";position: absolute;border-left: 1px solid gray;box-sizing: border-box;top: 0;bottom: 0;left: 50%;z-index: 0;}#sk-container-id-1 div.sk-serial {display: flex;flex-direction: column;align-items: center;background-color: white;padding-right: 0.2em;padding-left: 0.2em;position: relative;}#sk-container-id-1 div.sk-item {position: relative;z-index: 1;}#sk-container-id-1 div.sk-parallel {display: flex;align-items: stretch;justify-content: center;background-color: white;position: relative;}#sk-container-id-1 div.sk-item::before, #sk-container-id-1 div.sk-parallel-item::before {content: \"\";position: absolute;border-left: 1px solid gray;box-sizing: border-box;top: 0;bottom: 0;left: 50%;z-index: -1;}#sk-container-id-1 div.sk-parallel-item {display: flex;flex-direction: column;z-index: 1;position: relative;background-color: white;}#sk-container-id-1 div.sk-parallel-item:first-child::after {align-self: flex-end;width: 50%;}#sk-container-id-1 div.sk-parallel-item:last-child::after {align-self: flex-start;width: 50%;}#sk-container-id-1 div.sk-parallel-item:only-child::after {width: 0;}#sk-container-id-1 div.sk-dashed-wrapped {border: 1px dashed gray;margin: 0 0.4em 0.5em 0.4em;box-sizing: border-box;padding-bottom: 0.4em;background-color: white;}#sk-container-id-1 div.sk-label label {font-family: monospace;font-weight: bold;display: inline-block;line-height: 1.2em;}#sk-container-id-1 div.sk-label-container {text-align: center;}#sk-container-id-1 div.sk-container {/* jupyter's `normalize.less` sets `[hidden] { display: none; }` but bootstrap.min.css set `[hidden] { display: none !important; }` so we also need the `!important` here to be able to override the default hidden behavior on the sphinx rendered scikit-learn.org. See: https://github.com/scikit-learn/scikit-learn/issues/21755 */display: inline-block !important;position: relative;}#sk-container-id-1 div.sk-text-repr-fallback {display: none;}</style><div id=\"sk-container-id-1\" class=\"sk-top-container\"><div class=\"sk-text-repr-fallback\"><pre>GridSearchCV(cv=5,\n",
       "             estimator=Pipeline(steps=[(&#x27;sndard_scaler&#x27;, StandardScaler()),\n",
       "                                       (&#x27;reduce_dimension&#x27;, None),\n",
       "                                       (&#x27;random_forest&#x27;,\n",
       "                                        RandomForestClassifier())]),\n",
       "             n_jobs=8,\n",
       "             param_grid={&#x27;random_forest__max_depth&#x27;: [10, 20, 50, 100, 150, 200,\n",
       "                                                      400, None],\n",
       "                         &#x27;random_forest__min_samples_split&#x27;: [2, 3, 5, 10, 20]})</pre><b>In a Jupyter environment, please rerun this cell to show the HTML representation or trust the notebook. <br />On GitHub, the HTML representation is unable to render, please try loading this page with nbviewer.org.</b></div><div class=\"sk-container\" hidden><div class=\"sk-item sk-dashed-wrapped\"><div class=\"sk-label-container\"><div class=\"sk-label sk-toggleable\"><input class=\"sk-toggleable__control sk-hidden--visually\" id=\"sk-estimator-id-1\" type=\"checkbox\" ><label for=\"sk-estimator-id-1\" class=\"sk-toggleable__label sk-toggleable__label-arrow\">GridSearchCV</label><div class=\"sk-toggleable__content\"><pre>GridSearchCV(cv=5,\n",
       "             estimator=Pipeline(steps=[(&#x27;sndard_scaler&#x27;, StandardScaler()),\n",
       "                                       (&#x27;reduce_dimension&#x27;, None),\n",
       "                                       (&#x27;random_forest&#x27;,\n",
       "                                        RandomForestClassifier())]),\n",
       "             n_jobs=8,\n",
       "             param_grid={&#x27;random_forest__max_depth&#x27;: [10, 20, 50, 100, 150, 200,\n",
       "                                                      400, None],\n",
       "                         &#x27;random_forest__min_samples_split&#x27;: [2, 3, 5, 10, 20]})</pre></div></div></div><div class=\"sk-parallel\"><div class=\"sk-parallel-item\"><div class=\"sk-item\"><div class=\"sk-label-container\"><div class=\"sk-label sk-toggleable\"><input class=\"sk-toggleable__control sk-hidden--visually\" id=\"sk-estimator-id-2\" type=\"checkbox\" ><label for=\"sk-estimator-id-2\" class=\"sk-toggleable__label sk-toggleable__label-arrow\">estimator: Pipeline</label><div class=\"sk-toggleable__content\"><pre>Pipeline(steps=[(&#x27;sndard_scaler&#x27;, StandardScaler()), (&#x27;reduce_dimension&#x27;, None),\n",
       "                (&#x27;random_forest&#x27;, RandomForestClassifier())])</pre></div></div></div><div class=\"sk-serial\"><div class=\"sk-item\"><div class=\"sk-serial\"><div class=\"sk-item\"><div class=\"sk-estimator sk-toggleable\"><input class=\"sk-toggleable__control sk-hidden--visually\" id=\"sk-estimator-id-3\" type=\"checkbox\" ><label for=\"sk-estimator-id-3\" class=\"sk-toggleable__label sk-toggleable__label-arrow\">StandardScaler</label><div class=\"sk-toggleable__content\"><pre>StandardScaler()</pre></div></div></div><div class=\"sk-item\"><div class=\"sk-estimator sk-toggleable\"><input class=\"sk-toggleable__control sk-hidden--visually\" id=\"sk-estimator-id-4\" type=\"checkbox\" ><label for=\"sk-estimator-id-4\" class=\"sk-toggleable__label sk-toggleable__label-arrow\">None</label><div class=\"sk-toggleable__content\"><pre>None</pre></div></div></div><div class=\"sk-item\"><div class=\"sk-estimator sk-toggleable\"><input class=\"sk-toggleable__control sk-hidden--visually\" id=\"sk-estimator-id-5\" type=\"checkbox\" ><label for=\"sk-estimator-id-5\" class=\"sk-toggleable__label sk-toggleable__label-arrow\">RandomForestClassifier</label><div class=\"sk-toggleable__content\"><pre>RandomForestClassifier()</pre></div></div></div></div></div></div></div></div></div></div></div></div>"
      ],
      "text/plain": [
       "GridSearchCV(cv=5,\n",
       "             estimator=Pipeline(steps=[('sndard_scaler', StandardScaler()),\n",
       "                                       ('reduce_dimension', None),\n",
       "                                       ('random_forest',\n",
       "                                        RandomForestClassifier())]),\n",
       "             n_jobs=8,\n",
       "             param_grid={'random_forest__max_depth': [10, 20, 50, 100, 150, 200,\n",
       "                                                      400, None],\n",
       "                         'random_forest__min_samples_split': [2, 3, 5, 10, 20]})"
      ]
     },
     "execution_count": 21,
     "metadata": {},
     "output_type": "execute_result"
    }
   ],
   "source": [
    "grid_search.fit(song_features_train, song_genres_train)"
   ]
  },
  {
   "cell_type": "code",
   "execution_count": 22,
   "id": "a8c52fdc",
   "metadata": {},
   "outputs": [
    {
     "data": {
      "text/plain": [
       "{'random_forest__max_depth': 150, 'random_forest__min_samples_split': 3}"
      ]
     },
     "execution_count": 22,
     "metadata": {},
     "output_type": "execute_result"
    }
   ],
   "source": [
    "grid_search.best_params_"
   ]
  },
  {
   "cell_type": "code",
   "execution_count": 23,
   "id": "da92541f",
   "metadata": {},
   "outputs": [],
   "source": [
    "train_score = grid_search.best_estimator_.score(song_features_train, song_genres_train)"
   ]
  },
  {
   "cell_type": "code",
   "execution_count": 24,
   "id": "40062636",
   "metadata": {},
   "outputs": [
    {
     "data": {
      "text/plain": [
       "1.0"
      ]
     },
     "execution_count": 24,
     "metadata": {},
     "output_type": "execute_result"
    }
   ],
   "source": [
    "train_score"
   ]
  },
  {
   "cell_type": "code",
   "execution_count": 25,
   "id": "6799ef7e",
   "metadata": {},
   "outputs": [],
   "source": [
    "validation_score = grid_search.best_estimator_.score(song_features_val, song_genres_val)"
   ]
  },
  {
   "cell_type": "code",
   "execution_count": 26,
   "id": "ddae0408",
   "metadata": {},
   "outputs": [
    {
     "data": {
      "text/plain": [
       "0.7604790419161677"
      ]
     },
     "execution_count": 26,
     "metadata": {},
     "output_type": "execute_result"
    }
   ],
   "source": [
    "validation_score"
   ]
  },
  {
   "cell_type": "code",
   "execution_count": 27,
   "id": "1eaa2fa4",
   "metadata": {},
   "outputs": [
    {
     "name": "stdout",
     "output_type": "stream",
     "text": [
      "              precision    recall  f1-score   support\n",
      "\n",
      "       blues       0.80      0.63      0.71        19\n",
      "   classical       0.86      0.90      0.88        20\n",
      "     country       0.67      0.62      0.65        16\n",
      "       disco       0.75      0.79      0.77        19\n",
      "      hiphop       0.88      0.75      0.81        20\n",
      "        jazz       0.67      0.67      0.67        15\n",
      "       metal       0.89      0.84      0.86        19\n",
      "         pop       0.75      0.90      0.82        20\n",
      "      reggae       0.71      0.67      0.69        18\n",
      "        rock       0.20      1.00      0.33         1\n",
      "\n",
      "    accuracy                           0.76       167\n",
      "   macro avg       0.72      0.78      0.72       167\n",
      "weighted avg       0.78      0.76      0.76       167\n",
      "\n"
     ]
    }
   ],
   "source": [
    "mlflow_log_classification_report(song_features_val, song_genres_val,\\\n",
    "                            grid_search.best_estimator_, target_names=label_encoder.classes_)"
   ]
  },
  {
   "cell_type": "code",
   "execution_count": 28,
   "id": "768daf19",
   "metadata": {},
   "outputs": [],
   "source": [
    "mlflow_log_model(grid_search, train_score, validation_score)\n",
    "mlflow.end_run()"
   ]
  },
  {
   "cell_type": "markdown",
   "id": "5c200611",
   "metadata": {},
   "source": [
    "### By min sample leafs"
   ]
  },
  {
   "cell_type": "code",
   "execution_count": null,
   "id": "a1b44fee",
   "metadata": {},
   "outputs": [],
   "source": [
    "experiment = mlflow.create_experiment(name = f\"Random Forest, min sample leaf - {sample_length} sec\".format(sample_length))"
   ]
  },
  {
   "cell_type": "code",
   "execution_count": null,
   "id": "ca9b2cd9",
   "metadata": {},
   "outputs": [],
   "source": [
    "run = mlflow.start_run(experiment_id=experiment)"
   ]
  },
  {
   "cell_type": "code",
   "execution_count": null,
   "id": "9cf21a56",
   "metadata": {},
   "outputs": [],
   "source": [
    "mlflow.log_artifact(data_file)\n",
    "mlflow.log_input(dataset)"
   ]
  },
  {
   "cell_type": "code",
   "execution_count": null,
   "id": "d310b569",
   "metadata": {},
   "outputs": [],
   "source": [
    "grid_search = GridSearchCV(train_pipeline,\n",
    "    param_grid={\n",
    "        \"random_forest__max_depth\" : [ 10, 20, 50, 100, 150, 200, 400, None],\n",
    "        \"random_forest__min_samples_leaf\": [1, 2, 3, 5, 10, 20]\n",
    "    }, cv = 5, n_jobs=8)"
   ]
  },
  {
   "cell_type": "code",
   "execution_count": null,
   "id": "9cc4b14d",
   "metadata": {},
   "outputs": [],
   "source": [
    "grid_search.fit(song_features_train, song_genres_train)"
   ]
  },
  {
   "cell_type": "code",
   "execution_count": null,
   "id": "f8fbc229",
   "metadata": {},
   "outputs": [],
   "source": [
    "grid_search.best_params_"
   ]
  },
  {
   "cell_type": "code",
   "execution_count": null,
   "id": "86749e8d",
   "metadata": {},
   "outputs": [],
   "source": [
    "train_score = grid_search.best_estimator_.score(song_features_train, song_genres_train)"
   ]
  },
  {
   "cell_type": "code",
   "execution_count": null,
   "id": "927a79b5",
   "metadata": {},
   "outputs": [],
   "source": [
    "train_score"
   ]
  },
  {
   "cell_type": "code",
   "execution_count": null,
   "id": "ce7fe232",
   "metadata": {},
   "outputs": [],
   "source": [
    "validation_score = grid_search.best_estimator_.score(song_features_val, song_genres_val)"
   ]
  },
  {
   "cell_type": "code",
   "execution_count": null,
   "id": "b46861d8",
   "metadata": {},
   "outputs": [],
   "source": [
    "validation_score"
   ]
  },
  {
   "cell_type": "code",
   "execution_count": null,
   "id": "68d044d8",
   "metadata": {},
   "outputs": [],
   "source": [
    "mlflow_log_classification_report(song_features_val, song_genres_val,\\\n",
    "                            grid_search.best_estimator_, target_names=label_encoder.classes_)"
   ]
  },
  {
   "cell_type": "code",
   "execution_count": null,
   "id": "2d1087cc",
   "metadata": {},
   "outputs": [],
   "source": [
    "mlflow_log_model(grid_search, train_score, validation_score)\n",
    "mlflow.end_run()"
   ]
  }
 ],
 "metadata": {
  "kernelspec": {
   "display_name": "Python 3 (ipykernel)",
   "language": "python",
   "name": "python3"
  },
  "language_info": {
   "codemirror_mode": {
    "name": "ipython",
    "version": 3
   },
   "file_extension": ".py",
   "mimetype": "text/x-python",
   "name": "python",
   "nbconvert_exporter": "python",
   "pygments_lexer": "ipython3",
   "version": "3.11.5"
  }
 },
 "nbformat": 4,
 "nbformat_minor": 5
}
